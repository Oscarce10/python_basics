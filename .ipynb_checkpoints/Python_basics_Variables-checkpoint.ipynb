{
 "cells": [
  {
   "cell_type": "markdown",
   "metadata": {},
   "source": [
    "# Python basics - Variables"
   ]
  },
  {
   "cell_type": "code",
   "execution_count": 32,
   "metadata": {},
   "outputs": [],
   "source": [
    "# Commentaries start with pound #"
   ]
  },
  {
   "cell_type": "markdown",
   "metadata": {},
   "source": [
    "If a string is not assigned to a variable, it's taken as comment.  \n",
    "**Nota:** Si se salta de linea hay que agregar un backslash \\"
   ]
  },
  {
   "cell_type": "code",
   "execution_count": 33,
   "metadata": {
    "scrolled": false
   },
   "outputs": [
    {
     "data": {
      "text/plain": [
       "'As long as the string is not assigned to a variable, Python will read the code, but then ignore it, and you have made a multiline comment.'"
      ]
     },
     "execution_count": 33,
     "metadata": {},
     "output_type": "execute_result"
    }
   ],
   "source": [
    "\"This is a comment \" \\\n",
    "\"written in more than \" \\\n",
    "\"just one line\"\n",
    "\"As long as the string is not assigned to a variable, \" \\\n",
    "\"Python will read the code, but then ignore it, and you have made a multiline comment.\""
   ]
  },
  {
   "cell_type": "markdown",
   "metadata": {},
   "source": [
    "### Variables: no declaration required"
   ]
  },
  {
   "cell_type": "code",
   "execution_count": 34,
   "metadata": {},
   "outputs": [],
   "source": [
    "a = 3\n",
    "b = \"Hello world\"\n",
    "c = 'Variable with single quotes'"
   ]
  },
  {
   "cell_type": "markdown",
   "metadata": {},
   "source": [
    "### Python lets assign the same value to multiple variables in one line:"
   ]
  },
  {
   "cell_type": "code",
   "execution_count": 35,
   "metadata": {},
   "outputs": [
    {
     "name": "stdout",
     "output_type": "stream",
     "text": [
      "1 False word\n"
     ]
    }
   ],
   "source": [
    "x, y, z = 1, False, \"word\"\n",
    "print(x,y,z)"
   ]
  },
  {
   "cell_type": "markdown",
   "metadata": {},
   "source": [
    "### Concatenation is used with `+` sign if want to concat string with number cast number to str"
   ]
  },
  {
   "cell_type": "code",
   "execution_count": 36,
   "metadata": {},
   "outputs": [
    {
     "name": "stdout",
     "output_type": "stream",
     "text": [
      "Value of a: 3\n",
      "Value of y: False\n"
     ]
    }
   ],
   "source": [
    "print(\"Value of a: \"+str(a)+\"\\nValue of y: \"+str(y))"
   ]
  },
  {
   "cell_type": "markdown",
   "metadata": {},
   "source": [
    "### A local variable can be used inside a local environment and this will not affect the global value"
   ]
  },
  {
   "cell_type": "code",
   "execution_count": 37,
   "metadata": {},
   "outputs": [
    {
     "name": "stdout",
     "output_type": "stream",
     "text": [
      "Variable local a: 1525\n",
      "Variable global a: 3\n"
     ]
    }
   ],
   "source": [
    "def fun():\n",
    "    a = \"1525\"\n",
    "    print(\"Variable local a: \" + str(a))\n",
    "\n",
    "fun()\n",
    "print(\"Variable global a: \" + str(a))"
   ]
  },
  {
   "cell_type": "markdown",
   "metadata": {},
   "source": [
    "### A global variable can be created inside a local environment by using the word global"
   ]
  },
  {
   "cell_type": "code",
   "execution_count": 38,
   "metadata": {},
   "outputs": [
    {
     "name": "stdout",
     "output_type": "stream",
     "text": [
      "Antes de cambiar variable: 3\n",
      "Despues de modificar variable a: De 3 se cambia a String\n"
     ]
    }
   ],
   "source": [
    "def func():\n",
    "    global a\n",
    "    a = \"De 3 se cambia a String\"    \n",
    "\n",
    "print(\"Antes de cambiar variable: \" + str(a))\n",
    "func()\n",
    "print(\"Despues de modificar variable a: \" + a)"
   ]
  },
  {
   "cell_type": "markdown",
   "metadata": {},
   "source": [
    "## Python data types"
   ]
  },
  {
   "cell_type": "markdown",
   "metadata": {},
   "source": [
    "In programming, data type is an important concept.\n",
    "Variables can store data of different types, and different types can do different things.  \n",
    "Python has the following data types built-in by default, in these categories:\n",
    "\n",
    "**Text Type:**\t`str`  \n",
    "**Numeric Types:**\t`int`, `float`, `complex`  \n",
    "**Sequence Types:**\t`list`, `tuple`, `range`  \n",
    "**Mapping Type:**\t`dict`  \n",
    "**Set Types:**\t`set`, `frozenset`  \n",
    "**Boolean Type:**\t`bool`  \n",
    "**Binary Types:**\t`bytes`, `bytearray`, `memoryview`  "
   ]
  },
  {
   "cell_type": "markdown",
   "metadata": {},
   "source": [
    "**You can get the data type of any object by using the** `type()` **function:**"
   ]
  },
  {
   "cell_type": "code",
   "execution_count": 42,
   "metadata": {},
   "outputs": [
    {
     "name": "stdout",
     "output_type": "stream",
     "text": [
      "tipo de la variable a: \n",
      "<class 'str'>\n",
      "tipo de la variable y: \n",
      "<class 'bool'>\n"
     ]
    }
   ],
   "source": [
    "print(\"tipo de la variable a: \")\n",
    "print(type(a))\n",
    "\n",
    "print(\"tipo de la variable y: \")\n",
    "print(type(y))"
   ]
  },
  {
   "cell_type": "code",
   "execution_count": 43,
   "metadata": {},
   "outputs": [
    {
     "name": "stdout",
     "output_type": "stream",
     "text": [
      "Changing type of data\n",
      "tipo de la variable x: \n",
      "<class 'complex'>\n",
      "tipo de la variable x: \n",
      "<class 'dict'>\n",
      "tipo de la variable x: \n",
      "<class 'memoryview'>\n"
     ]
    }
   ],
   "source": [
    "def cambioTipo():\n",
    "    print(\"Changing type of data\")\n",
    "    x = 3j\n",
    "    print(\"tipo de la variable x: \")\n",
    "    print(type(x))\n",
    "\n",
    "    x = {\"name\" : \"John\", \"age\" : 36}\n",
    "    print(\"tipo de la variable x: \")\n",
    "    print(type(x))\n",
    "\n",
    "    x = memoryview(bytes(5))\n",
    "    print(\"tipo de la variable x: \")\n",
    "    print(type(x))\n",
    "    \n",
    "cambioTipo()"
   ]
  },
  {
   "cell_type": "markdown",
   "metadata": {},
   "source": [
    "### If you want to specify the data type, you can use the following constructor functions:"
   ]
  },
  {
   "cell_type": "code",
   "execution_count": 44,
   "metadata": {},
   "outputs": [
    {
     "name": "stdout",
     "output_type": "stream",
     "text": [
      "Assigning type of data\n",
      "<class 'int'>\n",
      "<class 'list'>\n",
      "<class 'bool'>\n",
      "<class 'dict'>\n"
     ]
    }
   ],
   "source": [
    "def assignType():\n",
    "    print(\"Assigning type of data\")\n",
    "    x = int(20)\n",
    "    print(type(x))\n",
    "    x = list((\"apple\", \"banana\", \"cherry\"))\n",
    "    print(type(x))\n",
    "    x = bool(5)\n",
    "    print(type(x))\n",
    "    x = dict(name=\"John\", age=36)\n",
    "    print(type(x))\n",
    "\n",
    "assignType()"
   ]
  },
  {
   "cell_type": "markdown",
   "metadata": {},
   "source": [
    "## Numbers in Python"
   ]
  },
  {
   "cell_type": "markdown",
   "metadata": {},
   "source": [
    "Int, or integer, is a whole number, positive or negative, without decimals, of unlimited length  \n",
    "Float, or \"floating point number\" is a number, positive or negative, containing one or more decimals."
   ]
  },
  {
   "cell_type": "code",
   "execution_count": 45,
   "metadata": {},
   "outputs": [
    {
     "name": "stdout",
     "output_type": "stream",
     "text": [
      "700000000000\n",
      "-125000000\n",
      "1.12548\n",
      "125.24\n",
      "-2.5e-15\n"
     ]
    }
   ],
   "source": [
    "def numbers():\n",
    "    x = 700000000000\n",
    "    print(x)\n",
    "    x = -125000000\n",
    "    print(x)\n",
    "\n",
    "    f = 1.12548\n",
    "    print(f)\n",
    "    f = 125.24\n",
    "    print(f)\n",
    "    f = -0.0000000000000025\n",
    "    print(f)\n",
    "\n",
    "numbers()"
   ]
  },
  {
   "cell_type": "markdown",
   "metadata": {},
   "source": [
    "### Complex numbers are written with a \"j\" as the imaginary part:"
   ]
  },
  {
   "cell_type": "code",
   "execution_count": 47,
   "metadata": {},
   "outputs": [
    {
     "name": "stdout",
     "output_type": "stream",
     "text": [
      "(5+3j)\n",
      "(-0-3j)\n",
      "1j\n"
     ]
    }
   ],
   "source": [
    "def complex():\n",
    "    f = 5+3j\n",
    "    print(f)\n",
    "    f = -3j\n",
    "    print(f)\n",
    "    f = 1j\n",
    "    print(f)\n",
    "\n",
    "complex()"
   ]
  },
  {
   "cell_type": "markdown",
   "metadata": {},
   "source": [
    "### Casting numbers"
   ]
  },
  {
   "cell_type": "code",
   "execution_count": 50,
   "metadata": {},
   "outputs": [
    {
     "name": "stdout",
     "output_type": "stream",
     "text": [
      "5.0\n",
      "2\n",
      "(3+2j)\n",
      "<class 'float'>\n",
      "<class 'int'>\n",
      "<class 'str'>\n"
     ]
    }
   ],
   "source": [
    "def convertNumber():\n",
    "    x = 5\n",
    "    y = 2.8\n",
    "    z = 3 + 2j\n",
    "\n",
    "    a = float(x)\n",
    "    b = int(y)\n",
    "    c = str (z)\n",
    "\n",
    "    print(a)\n",
    "    print(b)\n",
    "    print (c)\n",
    "\n",
    "    print(type(a))\n",
    "    print(type(b))\n",
    "    print(type(c))\n",
    "\n",
    "convertNumber()"
   ]
  },
  {
   "cell_type": "code",
   "execution_count": null,
   "metadata": {},
   "outputs": [],
   "source": []
  }
 ],
 "metadata": {
  "kernelspec": {
   "display_name": "Python 3",
   "language": "python",
   "name": "python3"
  },
  "language_info": {
   "codemirror_mode": {
    "name": "ipython",
    "version": 3
   },
   "file_extension": ".py",
   "mimetype": "text/x-python",
   "name": "python",
   "nbconvert_exporter": "python",
   "pygments_lexer": "ipython3",
   "version": "3.7.4"
  }
 },
 "nbformat": 4,
 "nbformat_minor": 2
}
