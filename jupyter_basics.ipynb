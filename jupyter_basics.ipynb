{
 "cells": [
  {
   "cell_type": "markdown",
   "metadata": {},
   "source": [
    "# This is a level 1 heading\n",
    "## This is a level 2 heading\n",
    "### This is a level 3 heading\n",
    "This is some plain text that forms a paragraph.\n",
    "Add emphasis via **bold** and __bold__, or *italic* and _italic_.\n",
    "Paragraphs must be separated by an empty line.\n",
    "* Sometimes we want to include lists.\n",
    "* Which can be indented.\n",
    "1. Lists can also be numbered.\n",
    "2. For ordered lists.\n",
    "[It is possible to include hyperlinks](https://www.example.com)\n",
    "\n",
    "[Tutorial Jupyter](https://www.youtube.com/watch?v=HW29067qVWk)\n",
    "Inline code uses single backticks (alt-96): `foo()`, and code blocks use triple backticks: `delete()`\n",
    "\n",
    "`bar()`\n",
    "\n",
    "Or can be indented by 4 spaces:\n",
    " foo()\n",
    "And finally, adding images is easy: ![Alt text](https://picsum.photos/200/300)"
   ]
  },
  {
   "cell_type": "code",
   "execution_count": 45,
   "metadata": {},
   "outputs": [],
   "source": [
    "# Conditional if goes with conditional and colon"
   ]
  },
  {
   "cell_type": "code",
   "execution_count": 46,
   "metadata": {},
   "outputs": [
    {
     "name": "stdout",
     "output_type": "stream",
     "text": [
      "five is greater than two\n"
     ]
    }
   ],
   "source": [
    "if 5 > 2:\n",
    "    # After that is very important add identation before starting the implementation it can be\n",
    "    # an space or tab pulse\n",
    "    print(\"five is greater than two\")\n"
   ]
  },
  {
   "cell_type": "code",
   "execution_count": 48,
   "metadata": {},
   "outputs": [
    {
     "name": "stdout",
     "output_type": "stream",
     "text": [
      "Package            Version\n",
      "------------------ -------\n",
      "attrs              19.3.0 \n",
      "backcall           0.1.0  \n",
      "bleach             3.1.0  \n",
      "colorama           0.4.1  \n",
      "decorator          4.4.1  \n",
      "defusedxml         0.6.0  \n",
      "entrypoints        0.3    \n",
      "importlib-metadata 0.23   \n",
      "ipykernel          5.1.3  \n",
      "ipython            7.9.0  \n",
      "ipython-genutils   0.2.0  \n",
      "jedi               0.15.1 \n",
      "Jinja2             2.10.3 \n",
      "json5              0.8.5  \n",
      "jsonschema         3.1.1  \n",
      "jupyter-client     5.3.4  \n",
      "jupyter-core       4.6.1  \n",
      "jupyterlab         1.2.2  \n",
      "jupyterlab-server  1.0.6  \n",
      "MarkupSafe         1.1.1  \n",
      "mistune            0.8.4  \n",
      "more-itertools     7.2.0  \n",
      "nbconvert          5.6.1  \n",
      "nbformat           4.4.0  \n",
      "notebook           6.0.2  \n",
      "pandocfilters      1.4.2  \n",
      "parso              0.5.1  \n",
      "pickleshare        0.7.5  \n",
      "pip                19.0.3 \n",
      "prometheus-client  0.7.1  \n",
      "prompt-toolkit     2.0.10 \n",
      "Pygments           2.4.2  \n",
      "pyrsistent         0.15.5 \n",
      "python-dateutil    2.8.1  \n",
      "pywin32            226    \n",
      "pywinpty           0.5.5  \n",
      "pyzmq              18.1.0 \n",
      "Send2Trash         1.5.0  \n",
      "setuptools         40.8.0 \n",
      "six                1.13.0 \n",
      "terminado          0.8.2  \n",
      "testpath           0.4.4  \n",
      "tornado            6.0.3  \n",
      "traitlets          4.3.3  \n",
      "wcwidth            0.1.7  \n",
      "webencodings       0.5.1  \n",
      "zipp               0.6.0  \n"
     ]
    },
    {
     "name": "stderr",
     "output_type": "stream",
     "text": [
      "You are using pip version 19.0.3, however version 19.3.1 is available.\n",
      "You should consider upgrading via the 'python -m pip install --upgrade pip' command.\n"
     ]
    }
   ],
   "source": [
    "!pip list"
   ]
  },
  {
   "cell_type": "markdown",
   "metadata": {},
   "source": [
    "## Lo siguiente es requerido para usar html o comandos de consola"
   ]
  },
  {
   "cell_type": "code",
   "execution_count": 50,
   "metadata": {
    "scrolled": false
   },
   "outputs": [
    {
     "data": {
      "application/json": {
       "cell": {
        "!": "OSMagics",
        "HTML": "Other",
        "SVG": "Other",
        "bash": "Other",
        "capture": "ExecutionMagics",
        "cmd": "Other",
        "debug": "ExecutionMagics",
        "file": "Other",
        "html": "DisplayMagics",
        "javascript": "DisplayMagics",
        "js": "DisplayMagics",
        "latex": "DisplayMagics",
        "markdown": "DisplayMagics",
        "perl": "Other",
        "prun": "ExecutionMagics",
        "pypy": "Other",
        "python": "Other",
        "python2": "Other",
        "python3": "Other",
        "ruby": "Other",
        "script": "ScriptMagics",
        "sh": "Other",
        "svg": "DisplayMagics",
        "sx": "OSMagics",
        "system": "OSMagics",
        "time": "ExecutionMagics",
        "timeit": "ExecutionMagics",
        "writefile": "OSMagics"
       },
       "line": {
        "alias": "OSMagics",
        "alias_magic": "BasicMagics",
        "autoawait": "AsyncMagics",
        "autocall": "AutoMagics",
        "automagic": "AutoMagics",
        "autosave": "KernelMagics",
        "bookmark": "OSMagics",
        "cd": "OSMagics",
        "clear": "KernelMagics",
        "cls": "KernelMagics",
        "colors": "BasicMagics",
        "conda": "PackagingMagics",
        "config": "ConfigMagics",
        "connect_info": "KernelMagics",
        "copy": "Other",
        "ddir": "Other",
        "debug": "ExecutionMagics",
        "dhist": "OSMagics",
        "dirs": "OSMagics",
        "doctest_mode": "BasicMagics",
        "echo": "Other",
        "ed": "Other",
        "edit": "KernelMagics",
        "env": "OSMagics",
        "gui": "BasicMagics",
        "hist": "Other",
        "history": "HistoryMagics",
        "killbgscripts": "ScriptMagics",
        "ldir": "Other",
        "less": "KernelMagics",
        "load": "CodeMagics",
        "load_ext": "ExtensionMagics",
        "loadpy": "CodeMagics",
        "logoff": "LoggingMagics",
        "logon": "LoggingMagics",
        "logstart": "LoggingMagics",
        "logstate": "LoggingMagics",
        "logstop": "LoggingMagics",
        "ls": "Other",
        "lsmagic": "BasicMagics",
        "macro": "ExecutionMagics",
        "magic": "BasicMagics",
        "matplotlib": "PylabMagics",
        "mkdir": "Other",
        "more": "KernelMagics",
        "notebook": "BasicMagics",
        "page": "BasicMagics",
        "pastebin": "CodeMagics",
        "pdb": "ExecutionMagics",
        "pdef": "NamespaceMagics",
        "pdoc": "NamespaceMagics",
        "pfile": "NamespaceMagics",
        "pinfo": "NamespaceMagics",
        "pinfo2": "NamespaceMagics",
        "pip": "PackagingMagics",
        "popd": "OSMagics",
        "pprint": "BasicMagics",
        "precision": "BasicMagics",
        "prun": "ExecutionMagics",
        "psearch": "NamespaceMagics",
        "psource": "NamespaceMagics",
        "pushd": "OSMagics",
        "pwd": "OSMagics",
        "pycat": "OSMagics",
        "pylab": "PylabMagics",
        "qtconsole": "KernelMagics",
        "quickref": "BasicMagics",
        "recall": "HistoryMagics",
        "rehashx": "OSMagics",
        "reload_ext": "ExtensionMagics",
        "ren": "Other",
        "rep": "Other",
        "rerun": "HistoryMagics",
        "reset": "NamespaceMagics",
        "reset_selective": "NamespaceMagics",
        "rmdir": "Other",
        "run": "ExecutionMagics",
        "save": "CodeMagics",
        "sc": "OSMagics",
        "set_env": "OSMagics",
        "store": "StoreMagics",
        "sx": "OSMagics",
        "system": "OSMagics",
        "tb": "ExecutionMagics",
        "time": "ExecutionMagics",
        "timeit": "ExecutionMagics",
        "unalias": "OSMagics",
        "unload_ext": "ExtensionMagics",
        "who": "NamespaceMagics",
        "who_ls": "NamespaceMagics",
        "whos": "NamespaceMagics",
        "xdel": "NamespaceMagics",
        "xmode": "BasicMagics"
       }
      },
      "text/plain": [
       "Available line magics:\n",
       "%alias  %alias_magic  %autoawait  %autocall  %automagic  %autosave  %bookmark  %cd  %clear  %cls  %colors  %conda  %config  %connect_info  %copy  %ddir  %debug  %dhist  %dirs  %doctest_mode  %echo  %ed  %edit  %env  %gui  %hist  %history  %killbgscripts  %ldir  %less  %load  %load_ext  %loadpy  %logoff  %logon  %logstart  %logstate  %logstop  %ls  %lsmagic  %macro  %magic  %matplotlib  %mkdir  %more  %notebook  %page  %pastebin  %pdb  %pdef  %pdoc  %pfile  %pinfo  %pinfo2  %pip  %popd  %pprint  %precision  %prun  %psearch  %psource  %pushd  %pwd  %pycat  %pylab  %qtconsole  %quickref  %recall  %rehashx  %reload_ext  %ren  %rep  %rerun  %reset  %reset_selective  %rmdir  %run  %save  %sc  %set_env  %store  %sx  %system  %tb  %time  %timeit  %unalias  %unload_ext  %who  %who_ls  %whos  %xdel  %xmode\n",
       "\n",
       "Available cell magics:\n",
       "%%!  %%HTML  %%SVG  %%bash  %%capture  %%cmd  %%debug  %%file  %%html  %%javascript  %%js  %%latex  %%markdown  %%perl  %%prun  %%pypy  %%python  %%python2  %%python3  %%ruby  %%script  %%sh  %%svg  %%sx  %%system  %%time  %%timeit  %%writefile\n",
       "\n",
       "Automagic is ON, % prefix IS NOT needed for line magics."
      ]
     },
     "execution_count": 50,
     "metadata": {},
     "output_type": "execute_result"
    }
   ],
   "source": [
    "%lsmagic"
   ]
  },
  {
   "cell_type": "code",
   "execution_count": 52,
   "metadata": {},
   "outputs": [
    {
     "data": {
      "text/plain": [
       "'D:\\\\Users\\\\USER\\\\PycharmProjects\\\\python_basics'"
      ]
     },
     "execution_count": 52,
     "metadata": {},
     "output_type": "execute_result"
    }
   ],
   "source": [
    "pwd"
   ]
  },
  {
   "cell_type": "code",
   "execution_count": 57,
   "metadata": {},
   "outputs": [
    {
     "name": "stdout",
     "output_type": "stream",
     "text": [
      " El volumen de la unidad D es Nuevo vol\n",
      " El n£mero de serie del volumen es: DA45-E8BD\n",
      "\n",
      " Directorio de D:\\Users\\USER\\PycharmProjects\\python_basics\n",
      "\n",
      "10/11/2019  09:21 a. m.    <DIR>          .\n",
      "10/11/2019  09:21 a. m.    <DIR>          ..\n",
      "10/11/2019  09:06 a. m.    <DIR>          .idea\n",
      "10/11/2019  08:59 a. m.    <DIR>          .ipynb_checkpoints\n",
      "10/11/2019  09:21 a. m.             9.759 python_basics_conditional.ipynb\n",
      "09/11/2019  09:13 a. m.               367 python_basics_conditional.py\n",
      "09/11/2019  09:13 a. m.             2.079 python_basics_strings.py\n",
      "09/11/2019  09:12 a. m.             3.863 python_basics_variables.py\n",
      "10/11/2019  08:55 a. m.             2.739 python_lists.py\n",
      "09/11/2019  09:08 a. m.    <DIR>          venv\n",
      "               5 archivos         18.807 bytes\n",
      "               5 dirs  773.934.804.992 bytes libres\n"
     ]
    }
   ],
   "source": [
    "ls"
   ]
  },
  {
   "cell_type": "code",
   "execution_count": 59,
   "metadata": {},
   "outputs": [
    {
     "name": "stdout",
     "output_type": "stream",
     "text": [
      " El volumen de la unidad D es Nuevo vol\n",
      " El n£mero de serie del volumen es: DA45-E8BD\n",
      "\n",
      " Directorio de D:\\Users\\USER\\PycharmProjects\\python_basics\n",
      "\n"
     ]
    },
    {
     "name": "stderr",
     "output_type": "stream",
     "text": [
      "No se encuentra el archivo\n"
     ]
    }
   ],
   "source": [
    "ls -la"
   ]
  },
  {
   "cell_type": "code",
   "execution_count": 64,
   "metadata": {},
   "outputs": [
    {
     "data": {
      "text/html": [
       "<iframe src=\"https://www.google.com/maps/embed?pb=!1m16!1m12!1m3!1d15908.36110418941!2d-74.11225019999999!3d4.5778065!2m3!1f0!2f0!3f0!3m2!1i1024!2i768!4f13.1!2m1!1siframe!5e0!3m2!1sen!2sco!4v1573396500488!5m2!1sen!2sco\" width=\"900\" height=\"300\" frameborder=\"0\" style=\"border:0;\" allowfullscreen=\"\"></iframe>\n"
      ],
      "text/plain": [
       "<IPython.core.display.HTML object>"
      ]
     },
     "metadata": {},
     "output_type": "display_data"
    }
   ],
   "source": [
    "%%html\n",
    "<iframe src=\"https://www.google.com/maps/embed?pb=!1m16!1m12!1m3!1d15908.36110418941!2d-74.11225019999999!3d4.5778065!2m3!1f0!2f0!3f0!3m2!1i1024!2i768!4f13.1!2m1!1siframe!5e0!3m2!1sen!2sco!4v1573396500488!5m2!1sen!2sco\" width=\"900\" height=\"300\" frameborder=\"0\" style=\"border:0;\" allowfullscreen=\"\"></iframe>"
   ]
  },
  {
   "cell_type": "code",
   "execution_count": 69,
   "metadata": {},
   "outputs": [
    {
     "data": {
      "text/html": [
       "<h1> Hello World </h1>\n"
      ],
      "text/plain": [
       "<IPython.core.display.HTML object>"
      ]
     },
     "metadata": {},
     "output_type": "display_data"
    }
   ],
   "source": [
    "%%html\n",
    "<h1> Hello World </h1>"
   ]
  },
  {
   "cell_type": "code",
   "execution_count": 71,
   "metadata": {},
   "outputs": [
    {
     "name": "stdout",
     "output_type": "stream",
     "text": [
      "995 ns ± 20.4 ns per loop (mean ± std. dev. of 7 runs, 1000000 loops each)\n"
     ]
    }
   ],
   "source": [
    "%%timeit\n",
    "square_events = (n*n for n in range(1000))"
   ]
  },
  {
   "cell_type": "markdown",
   "metadata": {},
   "source": [
    "## Para trabajar con SQL\n",
    "1. Installing SQL module in the notebook\n",
    "    `!pip install ipython-sql`"
   ]
  },
  {
   "cell_type": "code",
   "execution_count": 74,
   "metadata": {},
   "outputs": [
    {
     "name": "stdout",
     "output_type": "stream",
     "text": [
      "Requirement already satisfied: ipython-sql in d:\\users\\user\\appdata\\local\\programs\\python\\python37-32\\lib\\site-packages (0.3.9)\n",
      "Requirement already satisfied: six in d:\\users\\user\\appdata\\local\\programs\\python\\python37-32\\lib\\site-packages (from ipython-sql) (1.13.0)\n",
      "Requirement already satisfied: prettytable in d:\\users\\user\\appdata\\local\\programs\\python\\python37-32\\lib\\site-packages (from ipython-sql) (0.7.2)\n",
      "Requirement already satisfied: ipython-genutils>=0.1.0 in d:\\users\\user\\appdata\\local\\programs\\python\\python37-32\\lib\\site-packages (from ipython-sql) (0.2.0)\n",
      "Requirement already satisfied: ipython>=1.0 in d:\\users\\user\\appdata\\local\\programs\\python\\python37-32\\lib\\site-packages (from ipython-sql) (7.9.0)\n",
      "Requirement already satisfied: sqlalchemy>=0.6.7 in d:\\users\\user\\appdata\\local\\programs\\python\\python37-32\\lib\\site-packages (from ipython-sql) (1.3.10)\n",
      "Requirement already satisfied: sqlparse in d:\\users\\user\\appdata\\local\\programs\\python\\python37-32\\lib\\site-packages (from ipython-sql) (0.3.0)\n",
      "Requirement already satisfied: decorator in d:\\users\\user\\appdata\\local\\programs\\python\\python37-32\\lib\\site-packages (from ipython>=1.0->ipython-sql) (4.4.1)\n",
      "Requirement already satisfied: traitlets>=4.2 in d:\\users\\user\\appdata\\local\\programs\\python\\python37-32\\lib\\site-packages (from ipython>=1.0->ipython-sql) (4.3.3)\n",
      "Requirement already satisfied: setuptools>=18.5 in d:\\users\\user\\appdata\\local\\programs\\python\\python37-32\\lib\\site-packages (from ipython>=1.0->ipython-sql) (40.8.0)\n",
      "Requirement already satisfied: jedi>=0.10 in d:\\users\\user\\appdata\\local\\programs\\python\\python37-32\\lib\\site-packages (from ipython>=1.0->ipython-sql) (0.15.1)\n",
      "Requirement already satisfied: backcall in d:\\users\\user\\appdata\\local\\programs\\python\\python37-32\\lib\\site-packages (from ipython>=1.0->ipython-sql) (0.1.0)\n",
      "Requirement already satisfied: colorama; sys_platform == \"win32\" in d:\\users\\user\\appdata\\local\\programs\\python\\python37-32\\lib\\site-packages (from ipython>=1.0->ipython-sql) (0.4.1)\n",
      "Requirement already satisfied: pygments in d:\\users\\user\\appdata\\local\\programs\\python\\python37-32\\lib\\site-packages (from ipython>=1.0->ipython-sql) (2.4.2)\n",
      "Requirement already satisfied: pickleshare in d:\\users\\user\\appdata\\local\\programs\\python\\python37-32\\lib\\site-packages (from ipython>=1.0->ipython-sql) (0.7.5)\n",
      "Requirement already satisfied: prompt-toolkit<2.1.0,>=2.0.0 in d:\\users\\user\\appdata\\local\\programs\\python\\python37-32\\lib\\site-packages (from ipython>=1.0->ipython-sql) (2.0.10)\n",
      "Requirement already satisfied: parso>=0.5.0 in d:\\users\\user\\appdata\\local\\programs\\python\\python37-32\\lib\\site-packages (from jedi>=0.10->ipython>=1.0->ipython-sql) (0.5.1)\n",
      "Requirement already satisfied: wcwidth in d:\\users\\user\\appdata\\local\\programs\\python\\python37-32\\lib\\site-packages (from prompt-toolkit<2.1.0,>=2.0.0->ipython>=1.0->ipython-sql) (0.1.7)\n"
     ]
    },
    {
     "name": "stderr",
     "output_type": "stream",
     "text": [
      "You are using pip version 19.0.3, however version 19.3.1 is available.\n",
      "You should consider upgrading via the 'python -m pip install --upgrade pip' command.\n"
     ]
    }
   ],
   "source": [
    "!pip install ipython-sql"
   ]
  },
  {
   "cell_type": "markdown",
   "metadata": {},
   "source": [
    "2. Loading the SQL module `%load_ext sql`"
   ]
  },
  {
   "cell_type": "code",
   "execution_count": 76,
   "metadata": {},
   "outputs": [
    {
     "name": "stdout",
     "output_type": "stream",
     "text": [
      "The sql extension is already loaded. To reload it, use:\n",
      "  %reload_ext sql\n"
     ]
    }
   ],
   "source": [
    "%load_ext sql"
   ]
  },
  {
   "cell_type": "markdown",
   "metadata": {},
   "source": [
    "**The above magic command loads the ipython-sql extension**. We can connect to any database which is supported by SQLAlchemy. Here we will connect to a SQLite database. Enter the following command in the code cell:\n",
    "`%sql sqlite://`"
   ]
  },
  {
   "cell_type": "code",
   "execution_count": 78,
   "metadata": {},
   "outputs": [
    {
     "data": {
      "text/plain": [
       "'Connected: @None'"
      ]
     },
     "execution_count": 78,
     "metadata": {},
     "output_type": "execute_result"
    }
   ],
   "source": [
    "%sql sqlite://"
   ]
  },
  {
   "cell_type": "markdown",
   "metadata": {},
   "source": [
    "**If you get the output as** `Connected: @None`**, this means the connection has been established.**"
   ]
  },
  {
   "cell_type": "markdown",
   "metadata": {},
   "source": [
    "## Creating a database\n",
    "`%%sql   \n",
    "CREATE TABLE EMPLOYEE(firstname varchar(50),lastname varchar(50));  \n",
    "INSERT INTO EMPLOYEE VALUES('Tom','Mitchell');  \n",
    "INSERT INTO EMPLOYEE VALUES('Jack','Ryan');`"
   ]
  },
  {
   "cell_type": "code",
   "execution_count": 92,
   "metadata": {},
   "outputs": [
    {
     "name": "stdout",
     "output_type": "stream",
     "text": [
      " * sqlite://\n",
      "(sqlite3.OperationalError) table EMPLOYEE already exists\n",
      "[SQL: CREATE TABLE EMPLOYEE(firstname varchar(50),lastname varchar(50));]\n",
      "(Background on this error at: http://sqlalche.me/e/e3q8)\n"
     ]
    }
   ],
   "source": [
    "%%sql   \n",
    "CREATE TABLE EMPLOYEE(firstname varchar(50),lastname varchar(50));  \n",
    "INSERT INTO EMPLOYEE VALUES('Tom','Mitchell');  \n",
    "INSERT INTO EMPLOYEE VALUES('Jack','Ryan');"
   ]
  },
  {
   "cell_type": "code",
   "execution_count": 93,
   "metadata": {},
   "outputs": [
    {
     "name": "stdout",
     "output_type": "stream",
     "text": [
      " * sqlite://\n",
      "Done.\n"
     ]
    },
    {
     "data": {
      "text/html": [
       "<table>\n",
       "    <tr>\n",
       "        <th>firstname</th>\n",
       "        <th>lastname</th>\n",
       "    </tr>\n",
       "    <tr>\n",
       "        <td>Tom</td>\n",
       "        <td>Mitchell</td>\n",
       "    </tr>\n",
       "    <tr>\n",
       "        <td>Jack</td>\n",
       "        <td>Ryan</td>\n",
       "    </tr>\n",
       "</table>"
      ],
      "text/plain": [
       "[('Tom', 'Mitchell'), ('Jack', 'Ryan')]"
      ]
     },
     "execution_count": 93,
     "metadata": {},
     "output_type": "execute_result"
    }
   ],
   "source": [
    "%sql SELECT * from EMPLOYEE;  "
   ]
  },
  {
   "cell_type": "code",
   "execution_count": 95,
   "metadata": {},
   "outputs": [
    {
     "name": "stdout",
     "output_type": "stream",
     "text": [
      " * sqlite://\n",
      "Done.\n"
     ]
    },
    {
     "data": {
      "text/html": [
       "<table>\n",
       "    <tr>\n",
       "        <th>firstname</th>\n",
       "    </tr>\n",
       "    <tr>\n",
       "        <td>Tom</td>\n",
       "    </tr>\n",
       "    <tr>\n",
       "        <td>Jack</td>\n",
       "    </tr>\n",
       "</table>"
      ],
      "text/plain": [
       "[('Tom',), ('Jack',)]"
      ]
     },
     "execution_count": 95,
     "metadata": {},
     "output_type": "execute_result"
    }
   ],
   "source": [
    "%sql SELECT firstname from EMPLOYEE"
   ]
  },
  {
   "cell_type": "code",
   "execution_count": null,
   "metadata": {},
   "outputs": [],
   "source": []
  }
 ],
 "metadata": {
  "kernelspec": {
   "display_name": "Python 3",
   "language": "python",
   "name": "python3"
  },
  "language_info": {
   "codemirror_mode": {
    "name": "ipython",
    "version": 3
   },
   "file_extension": ".py",
   "mimetype": "text/x-python",
   "name": "python",
   "nbconvert_exporter": "python",
   "pygments_lexer": "ipython3",
   "version": "3.7.4"
  }
 },
 "nbformat": 4,
 "nbformat_minor": 2
}
